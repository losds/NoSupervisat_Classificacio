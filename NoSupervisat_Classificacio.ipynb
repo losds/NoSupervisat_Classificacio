{
 "cells": [
  {
   "cell_type": "code",
   "execution_count": 49,
   "metadata": {
    "id": "1Wl8_hr5MJSk"
   },
   "outputs": [],
   "source": [
    "import pandas as pd\n",
    "import numpy as np\n",
    "from sklearn.preprocessing import StandardScaler\n",
    "from sklearn.decomposition import PCA\n",
    "from sklearn.preprocessing import LabelEncoder\n",
    "from sklearn.cluster import KMeans\n",
    "import matplotlib.pyplot as plt\n",
    "import seaborn as sns\n",
    "from sklearn.model_selection import train_test_split\n",
    "from scipy.cluster.hierarchy import dendrogram\n",
    "from scipy.cluster.hierarchy import linkage\n",
    "from sklearn.metrics import silhouette_score"
   ]
  },
  {
   "cell_type": "code",
   "execution_count": 7,
   "metadata": {
    "id": "naYjK55zMfww"
   },
   "outputs": [],
   "source": [
    "df = pd.read_csv('DelayedFlights.csv')"
   ]
  },
  {
   "cell_type": "code",
   "execution_count": 8,
   "metadata": {
    "id": "6wiemfjQOMRq"
   },
   "outputs": [],
   "source": [
    "pd.set_option('display.max_columns', None)"
   ]
  },
  {
   "cell_type": "code",
   "execution_count": 9,
   "metadata": {
    "colab": {
     "base_uri": "https://localhost:8080/",
     "height": 240
    },
    "id": "Y-Xi67kINM-P",
    "outputId": "04f6d256-ddfe-4e97-e113-dbe708e1c075"
   },
   "outputs": [
    {
     "data": {
      "text/html": [
       "<div>\n",
       "<style scoped>\n",
       "    .dataframe tbody tr th:only-of-type {\n",
       "        vertical-align: middle;\n",
       "    }\n",
       "\n",
       "    .dataframe tbody tr th {\n",
       "        vertical-align: top;\n",
       "    }\n",
       "\n",
       "    .dataframe thead th {\n",
       "        text-align: right;\n",
       "    }\n",
       "</style>\n",
       "<table border=\"1\" class=\"dataframe\">\n",
       "  <thead>\n",
       "    <tr style=\"text-align: right;\">\n",
       "      <th></th>\n",
       "      <th>Unnamed: 0</th>\n",
       "      <th>Year</th>\n",
       "      <th>Month</th>\n",
       "      <th>DayofMonth</th>\n",
       "      <th>DayOfWeek</th>\n",
       "      <th>DepTime</th>\n",
       "      <th>CRSDepTime</th>\n",
       "      <th>ArrTime</th>\n",
       "      <th>CRSArrTime</th>\n",
       "      <th>UniqueCarrier</th>\n",
       "      <th>FlightNum</th>\n",
       "      <th>TailNum</th>\n",
       "      <th>ActualElapsedTime</th>\n",
       "      <th>CRSElapsedTime</th>\n",
       "      <th>AirTime</th>\n",
       "      <th>ArrDelay</th>\n",
       "      <th>DepDelay</th>\n",
       "      <th>Origin</th>\n",
       "      <th>Dest</th>\n",
       "      <th>Distance</th>\n",
       "      <th>TaxiIn</th>\n",
       "      <th>TaxiOut</th>\n",
       "      <th>Cancelled</th>\n",
       "      <th>CancellationCode</th>\n",
       "      <th>Diverted</th>\n",
       "      <th>CarrierDelay</th>\n",
       "      <th>WeatherDelay</th>\n",
       "      <th>NASDelay</th>\n",
       "      <th>SecurityDelay</th>\n",
       "      <th>LateAircraftDelay</th>\n",
       "    </tr>\n",
       "  </thead>\n",
       "  <tbody>\n",
       "    <tr>\n",
       "      <th>0</th>\n",
       "      <td>0</td>\n",
       "      <td>2008</td>\n",
       "      <td>1</td>\n",
       "      <td>3</td>\n",
       "      <td>4</td>\n",
       "      <td>2003.0</td>\n",
       "      <td>1955</td>\n",
       "      <td>2211.0</td>\n",
       "      <td>2225</td>\n",
       "      <td>WN</td>\n",
       "      <td>335</td>\n",
       "      <td>N712SW</td>\n",
       "      <td>128.0</td>\n",
       "      <td>150.0</td>\n",
       "      <td>116.0</td>\n",
       "      <td>-14.0</td>\n",
       "      <td>8.0</td>\n",
       "      <td>IAD</td>\n",
       "      <td>TPA</td>\n",
       "      <td>810</td>\n",
       "      <td>4.0</td>\n",
       "      <td>8.0</td>\n",
       "      <td>0</td>\n",
       "      <td>N</td>\n",
       "      <td>0</td>\n",
       "      <td>NaN</td>\n",
       "      <td>NaN</td>\n",
       "      <td>NaN</td>\n",
       "      <td>NaN</td>\n",
       "      <td>NaN</td>\n",
       "    </tr>\n",
       "    <tr>\n",
       "      <th>1</th>\n",
       "      <td>1</td>\n",
       "      <td>2008</td>\n",
       "      <td>1</td>\n",
       "      <td>3</td>\n",
       "      <td>4</td>\n",
       "      <td>754.0</td>\n",
       "      <td>735</td>\n",
       "      <td>1002.0</td>\n",
       "      <td>1000</td>\n",
       "      <td>WN</td>\n",
       "      <td>3231</td>\n",
       "      <td>N772SW</td>\n",
       "      <td>128.0</td>\n",
       "      <td>145.0</td>\n",
       "      <td>113.0</td>\n",
       "      <td>2.0</td>\n",
       "      <td>19.0</td>\n",
       "      <td>IAD</td>\n",
       "      <td>TPA</td>\n",
       "      <td>810</td>\n",
       "      <td>5.0</td>\n",
       "      <td>10.0</td>\n",
       "      <td>0</td>\n",
       "      <td>N</td>\n",
       "      <td>0</td>\n",
       "      <td>NaN</td>\n",
       "      <td>NaN</td>\n",
       "      <td>NaN</td>\n",
       "      <td>NaN</td>\n",
       "      <td>NaN</td>\n",
       "    </tr>\n",
       "    <tr>\n",
       "      <th>2</th>\n",
       "      <td>2</td>\n",
       "      <td>2008</td>\n",
       "      <td>1</td>\n",
       "      <td>3</td>\n",
       "      <td>4</td>\n",
       "      <td>628.0</td>\n",
       "      <td>620</td>\n",
       "      <td>804.0</td>\n",
       "      <td>750</td>\n",
       "      <td>WN</td>\n",
       "      <td>448</td>\n",
       "      <td>N428WN</td>\n",
       "      <td>96.0</td>\n",
       "      <td>90.0</td>\n",
       "      <td>76.0</td>\n",
       "      <td>14.0</td>\n",
       "      <td>8.0</td>\n",
       "      <td>IND</td>\n",
       "      <td>BWI</td>\n",
       "      <td>515</td>\n",
       "      <td>3.0</td>\n",
       "      <td>17.0</td>\n",
       "      <td>0</td>\n",
       "      <td>N</td>\n",
       "      <td>0</td>\n",
       "      <td>NaN</td>\n",
       "      <td>NaN</td>\n",
       "      <td>NaN</td>\n",
       "      <td>NaN</td>\n",
       "      <td>NaN</td>\n",
       "    </tr>\n",
       "    <tr>\n",
       "      <th>3</th>\n",
       "      <td>4</td>\n",
       "      <td>2008</td>\n",
       "      <td>1</td>\n",
       "      <td>3</td>\n",
       "      <td>4</td>\n",
       "      <td>1829.0</td>\n",
       "      <td>1755</td>\n",
       "      <td>1959.0</td>\n",
       "      <td>1925</td>\n",
       "      <td>WN</td>\n",
       "      <td>3920</td>\n",
       "      <td>N464WN</td>\n",
       "      <td>90.0</td>\n",
       "      <td>90.0</td>\n",
       "      <td>77.0</td>\n",
       "      <td>34.0</td>\n",
       "      <td>34.0</td>\n",
       "      <td>IND</td>\n",
       "      <td>BWI</td>\n",
       "      <td>515</td>\n",
       "      <td>3.0</td>\n",
       "      <td>10.0</td>\n",
       "      <td>0</td>\n",
       "      <td>N</td>\n",
       "      <td>0</td>\n",
       "      <td>2.0</td>\n",
       "      <td>0.0</td>\n",
       "      <td>0.0</td>\n",
       "      <td>0.0</td>\n",
       "      <td>32.0</td>\n",
       "    </tr>\n",
       "    <tr>\n",
       "      <th>4</th>\n",
       "      <td>5</td>\n",
       "      <td>2008</td>\n",
       "      <td>1</td>\n",
       "      <td>3</td>\n",
       "      <td>4</td>\n",
       "      <td>1940.0</td>\n",
       "      <td>1915</td>\n",
       "      <td>2121.0</td>\n",
       "      <td>2110</td>\n",
       "      <td>WN</td>\n",
       "      <td>378</td>\n",
       "      <td>N726SW</td>\n",
       "      <td>101.0</td>\n",
       "      <td>115.0</td>\n",
       "      <td>87.0</td>\n",
       "      <td>11.0</td>\n",
       "      <td>25.0</td>\n",
       "      <td>IND</td>\n",
       "      <td>JAX</td>\n",
       "      <td>688</td>\n",
       "      <td>4.0</td>\n",
       "      <td>10.0</td>\n",
       "      <td>0</td>\n",
       "      <td>N</td>\n",
       "      <td>0</td>\n",
       "      <td>NaN</td>\n",
       "      <td>NaN</td>\n",
       "      <td>NaN</td>\n",
       "      <td>NaN</td>\n",
       "      <td>NaN</td>\n",
       "    </tr>\n",
       "  </tbody>\n",
       "</table>\n",
       "</div>"
      ],
      "text/plain": [
       "   Unnamed: 0  Year  Month  DayofMonth  DayOfWeek  DepTime  CRSDepTime  \\\n",
       "0           0  2008      1           3          4   2003.0        1955   \n",
       "1           1  2008      1           3          4    754.0         735   \n",
       "2           2  2008      1           3          4    628.0         620   \n",
       "3           4  2008      1           3          4   1829.0        1755   \n",
       "4           5  2008      1           3          4   1940.0        1915   \n",
       "\n",
       "   ArrTime  CRSArrTime UniqueCarrier  FlightNum TailNum  ActualElapsedTime  \\\n",
       "0   2211.0        2225            WN        335  N712SW              128.0   \n",
       "1   1002.0        1000            WN       3231  N772SW              128.0   \n",
       "2    804.0         750            WN        448  N428WN               96.0   \n",
       "3   1959.0        1925            WN       3920  N464WN               90.0   \n",
       "4   2121.0        2110            WN        378  N726SW              101.0   \n",
       "\n",
       "   CRSElapsedTime  AirTime  ArrDelay  DepDelay Origin Dest  Distance  TaxiIn  \\\n",
       "0           150.0    116.0     -14.0       8.0    IAD  TPA       810     4.0   \n",
       "1           145.0    113.0       2.0      19.0    IAD  TPA       810     5.0   \n",
       "2            90.0     76.0      14.0       8.0    IND  BWI       515     3.0   \n",
       "3            90.0     77.0      34.0      34.0    IND  BWI       515     3.0   \n",
       "4           115.0     87.0      11.0      25.0    IND  JAX       688     4.0   \n",
       "\n",
       "   TaxiOut  Cancelled CancellationCode  Diverted  CarrierDelay  WeatherDelay  \\\n",
       "0      8.0          0                N         0           NaN           NaN   \n",
       "1     10.0          0                N         0           NaN           NaN   \n",
       "2     17.0          0                N         0           NaN           NaN   \n",
       "3     10.0          0                N         0           2.0           0.0   \n",
       "4     10.0          0                N         0           NaN           NaN   \n",
       "\n",
       "   NASDelay  SecurityDelay  LateAircraftDelay  \n",
       "0       NaN            NaN                NaN  \n",
       "1       NaN            NaN                NaN  \n",
       "2       NaN            NaN                NaN  \n",
       "3       0.0            0.0               32.0  \n",
       "4       NaN            NaN                NaN  "
      ]
     },
     "execution_count": 9,
     "metadata": {},
     "output_type": "execute_result"
    }
   ],
   "source": [
    "df.head()"
   ]
  },
  {
   "cell_type": "code",
   "execution_count": 10,
   "metadata": {
    "id": "gdZjdnlkNYq7"
   },
   "outputs": [],
   "source": [
    "#elimino la columna contador de filas Unnamed: 0\n",
    "df = df.drop('Unnamed: 0', 1)\n"
   ]
  },
  {
   "cell_type": "code",
   "execution_count": 11,
   "metadata": {
    "colab": {
     "base_uri": "https://localhost:8080/",
     "height": 315
    },
    "id": "JRD9FXV5OPYt",
    "outputId": "00e46234-dded-44a2-e72e-140d5f1e2c99"
   },
   "outputs": [
    {
     "data": {
      "text/html": [
       "<div>\n",
       "<style scoped>\n",
       "    .dataframe tbody tr th:only-of-type {\n",
       "        vertical-align: middle;\n",
       "    }\n",
       "\n",
       "    .dataframe tbody tr th {\n",
       "        vertical-align: top;\n",
       "    }\n",
       "\n",
       "    .dataframe thead th {\n",
       "        text-align: right;\n",
       "    }\n",
       "</style>\n",
       "<table border=\"1\" class=\"dataframe\">\n",
       "  <thead>\n",
       "    <tr style=\"text-align: right;\">\n",
       "      <th></th>\n",
       "      <th>Year</th>\n",
       "      <th>Month</th>\n",
       "      <th>DayofMonth</th>\n",
       "      <th>DayOfWeek</th>\n",
       "      <th>DepTime</th>\n",
       "      <th>CRSDepTime</th>\n",
       "      <th>ArrTime</th>\n",
       "      <th>CRSArrTime</th>\n",
       "      <th>FlightNum</th>\n",
       "      <th>ActualElapsedTime</th>\n",
       "      <th>CRSElapsedTime</th>\n",
       "      <th>AirTime</th>\n",
       "      <th>ArrDelay</th>\n",
       "      <th>DepDelay</th>\n",
       "      <th>Distance</th>\n",
       "      <th>TaxiIn</th>\n",
       "      <th>TaxiOut</th>\n",
       "      <th>Cancelled</th>\n",
       "      <th>Diverted</th>\n",
       "      <th>CarrierDelay</th>\n",
       "      <th>WeatherDelay</th>\n",
       "      <th>NASDelay</th>\n",
       "      <th>SecurityDelay</th>\n",
       "      <th>LateAircraftDelay</th>\n",
       "    </tr>\n",
       "  </thead>\n",
       "  <tbody>\n",
       "    <tr>\n",
       "      <th>count</th>\n",
       "      <td>1936758.0</td>\n",
       "      <td>1936758.000</td>\n",
       "      <td>1936758.000</td>\n",
       "      <td>1936758.000</td>\n",
       "      <td>1936758.000</td>\n",
       "      <td>1936758.000</td>\n",
       "      <td>1929648.000</td>\n",
       "      <td>1936758.000</td>\n",
       "      <td>1936758.000</td>\n",
       "      <td>1928371.000</td>\n",
       "      <td>1936560.000</td>\n",
       "      <td>1928371.000</td>\n",
       "      <td>1928371.000</td>\n",
       "      <td>1936758.000</td>\n",
       "      <td>1936758.000</td>\n",
       "      <td>1929648.000</td>\n",
       "      <td>1936303.000</td>\n",
       "      <td>1936758.000</td>\n",
       "      <td>1936758.000</td>\n",
       "      <td>1247488.000</td>\n",
       "      <td>1247488.000</td>\n",
       "      <td>1247488.000</td>\n",
       "      <td>1247488.000</td>\n",
       "      <td>1247488.000</td>\n",
       "    </tr>\n",
       "    <tr>\n",
       "      <th>mean</th>\n",
       "      <td>2008.0</td>\n",
       "      <td>6.111</td>\n",
       "      <td>15.753</td>\n",
       "      <td>3.985</td>\n",
       "      <td>1518.534</td>\n",
       "      <td>1467.473</td>\n",
       "      <td>1610.141</td>\n",
       "      <td>1634.225</td>\n",
       "      <td>2184.263</td>\n",
       "      <td>133.306</td>\n",
       "      <td>134.303</td>\n",
       "      <td>108.277</td>\n",
       "      <td>42.200</td>\n",
       "      <td>43.185</td>\n",
       "      <td>765.686</td>\n",
       "      <td>6.813</td>\n",
       "      <td>18.232</td>\n",
       "      <td>0.000</td>\n",
       "      <td>0.004</td>\n",
       "      <td>19.179</td>\n",
       "      <td>3.704</td>\n",
       "      <td>15.022</td>\n",
       "      <td>0.090</td>\n",
       "      <td>25.296</td>\n",
       "    </tr>\n",
       "    <tr>\n",
       "      <th>std</th>\n",
       "      <td>0.0</td>\n",
       "      <td>3.483</td>\n",
       "      <td>8.776</td>\n",
       "      <td>1.996</td>\n",
       "      <td>450.485</td>\n",
       "      <td>424.767</td>\n",
       "      <td>548.178</td>\n",
       "      <td>464.635</td>\n",
       "      <td>1944.702</td>\n",
       "      <td>72.060</td>\n",
       "      <td>71.341</td>\n",
       "      <td>68.643</td>\n",
       "      <td>56.785</td>\n",
       "      <td>53.403</td>\n",
       "      <td>574.480</td>\n",
       "      <td>5.274</td>\n",
       "      <td>14.339</td>\n",
       "      <td>0.018</td>\n",
       "      <td>0.063</td>\n",
       "      <td>43.546</td>\n",
       "      <td>21.493</td>\n",
       "      <td>33.833</td>\n",
       "      <td>2.023</td>\n",
       "      <td>42.055</td>\n",
       "    </tr>\n",
       "    <tr>\n",
       "      <th>min</th>\n",
       "      <td>2008.0</td>\n",
       "      <td>1.000</td>\n",
       "      <td>1.000</td>\n",
       "      <td>1.000</td>\n",
       "      <td>1.000</td>\n",
       "      <td>0.000</td>\n",
       "      <td>1.000</td>\n",
       "      <td>0.000</td>\n",
       "      <td>1.000</td>\n",
       "      <td>14.000</td>\n",
       "      <td>-25.000</td>\n",
       "      <td>0.000</td>\n",
       "      <td>-109.000</td>\n",
       "      <td>6.000</td>\n",
       "      <td>11.000</td>\n",
       "      <td>0.000</td>\n",
       "      <td>0.000</td>\n",
       "      <td>0.000</td>\n",
       "      <td>0.000</td>\n",
       "      <td>0.000</td>\n",
       "      <td>0.000</td>\n",
       "      <td>0.000</td>\n",
       "      <td>0.000</td>\n",
       "      <td>0.000</td>\n",
       "    </tr>\n",
       "    <tr>\n",
       "      <th>25%</th>\n",
       "      <td>2008.0</td>\n",
       "      <td>3.000</td>\n",
       "      <td>8.000</td>\n",
       "      <td>2.000</td>\n",
       "      <td>1203.000</td>\n",
       "      <td>1135.000</td>\n",
       "      <td>1316.000</td>\n",
       "      <td>1325.000</td>\n",
       "      <td>610.000</td>\n",
       "      <td>80.000</td>\n",
       "      <td>82.000</td>\n",
       "      <td>58.000</td>\n",
       "      <td>9.000</td>\n",
       "      <td>12.000</td>\n",
       "      <td>338.000</td>\n",
       "      <td>4.000</td>\n",
       "      <td>10.000</td>\n",
       "      <td>0.000</td>\n",
       "      <td>0.000</td>\n",
       "      <td>0.000</td>\n",
       "      <td>0.000</td>\n",
       "      <td>0.000</td>\n",
       "      <td>0.000</td>\n",
       "      <td>0.000</td>\n",
       "    </tr>\n",
       "    <tr>\n",
       "      <th>50%</th>\n",
       "      <td>2008.0</td>\n",
       "      <td>6.000</td>\n",
       "      <td>16.000</td>\n",
       "      <td>4.000</td>\n",
       "      <td>1545.000</td>\n",
       "      <td>1510.000</td>\n",
       "      <td>1715.000</td>\n",
       "      <td>1705.000</td>\n",
       "      <td>1543.000</td>\n",
       "      <td>116.000</td>\n",
       "      <td>116.000</td>\n",
       "      <td>90.000</td>\n",
       "      <td>24.000</td>\n",
       "      <td>24.000</td>\n",
       "      <td>606.000</td>\n",
       "      <td>6.000</td>\n",
       "      <td>14.000</td>\n",
       "      <td>0.000</td>\n",
       "      <td>0.000</td>\n",
       "      <td>2.000</td>\n",
       "      <td>0.000</td>\n",
       "      <td>2.000</td>\n",
       "      <td>0.000</td>\n",
       "      <td>8.000</td>\n",
       "    </tr>\n",
       "    <tr>\n",
       "      <th>75%</th>\n",
       "      <td>2008.0</td>\n",
       "      <td>9.000</td>\n",
       "      <td>23.000</td>\n",
       "      <td>6.000</td>\n",
       "      <td>1900.000</td>\n",
       "      <td>1815.000</td>\n",
       "      <td>2030.000</td>\n",
       "      <td>2014.000</td>\n",
       "      <td>3422.000</td>\n",
       "      <td>165.000</td>\n",
       "      <td>165.000</td>\n",
       "      <td>137.000</td>\n",
       "      <td>56.000</td>\n",
       "      <td>53.000</td>\n",
       "      <td>998.000</td>\n",
       "      <td>8.000</td>\n",
       "      <td>21.000</td>\n",
       "      <td>0.000</td>\n",
       "      <td>0.000</td>\n",
       "      <td>21.000</td>\n",
       "      <td>0.000</td>\n",
       "      <td>15.000</td>\n",
       "      <td>0.000</td>\n",
       "      <td>33.000</td>\n",
       "    </tr>\n",
       "    <tr>\n",
       "      <th>max</th>\n",
       "      <td>2008.0</td>\n",
       "      <td>12.000</td>\n",
       "      <td>31.000</td>\n",
       "      <td>7.000</td>\n",
       "      <td>2400.000</td>\n",
       "      <td>2359.000</td>\n",
       "      <td>2400.000</td>\n",
       "      <td>2400.000</td>\n",
       "      <td>9742.000</td>\n",
       "      <td>1114.000</td>\n",
       "      <td>660.000</td>\n",
       "      <td>1091.000</td>\n",
       "      <td>2461.000</td>\n",
       "      <td>2467.000</td>\n",
       "      <td>4962.000</td>\n",
       "      <td>240.000</td>\n",
       "      <td>422.000</td>\n",
       "      <td>1.000</td>\n",
       "      <td>1.000</td>\n",
       "      <td>2436.000</td>\n",
       "      <td>1352.000</td>\n",
       "      <td>1357.000</td>\n",
       "      <td>392.000</td>\n",
       "      <td>1316.000</td>\n",
       "    </tr>\n",
       "  </tbody>\n",
       "</table>\n",
       "</div>"
      ],
      "text/plain": [
       "            Year        Month   DayofMonth    DayOfWeek      DepTime  \\\n",
       "count  1936758.0  1936758.000  1936758.000  1936758.000  1936758.000   \n",
       "mean      2008.0        6.111       15.753        3.985     1518.534   \n",
       "std          0.0        3.483        8.776        1.996      450.485   \n",
       "min       2008.0        1.000        1.000        1.000        1.000   \n",
       "25%       2008.0        3.000        8.000        2.000     1203.000   \n",
       "50%       2008.0        6.000       16.000        4.000     1545.000   \n",
       "75%       2008.0        9.000       23.000        6.000     1900.000   \n",
       "max       2008.0       12.000       31.000        7.000     2400.000   \n",
       "\n",
       "        CRSDepTime      ArrTime   CRSArrTime    FlightNum  ActualElapsedTime  \\\n",
       "count  1936758.000  1929648.000  1936758.000  1936758.000        1928371.000   \n",
       "mean      1467.473     1610.141     1634.225     2184.263            133.306   \n",
       "std        424.767      548.178      464.635     1944.702             72.060   \n",
       "min          0.000        1.000        0.000        1.000             14.000   \n",
       "25%       1135.000     1316.000     1325.000      610.000             80.000   \n",
       "50%       1510.000     1715.000     1705.000     1543.000            116.000   \n",
       "75%       1815.000     2030.000     2014.000     3422.000            165.000   \n",
       "max       2359.000     2400.000     2400.000     9742.000           1114.000   \n",
       "\n",
       "       CRSElapsedTime      AirTime     ArrDelay     DepDelay     Distance  \\\n",
       "count     1936560.000  1928371.000  1928371.000  1936758.000  1936758.000   \n",
       "mean          134.303      108.277       42.200       43.185      765.686   \n",
       "std            71.341       68.643       56.785       53.403      574.480   \n",
       "min           -25.000        0.000     -109.000        6.000       11.000   \n",
       "25%            82.000       58.000        9.000       12.000      338.000   \n",
       "50%           116.000       90.000       24.000       24.000      606.000   \n",
       "75%           165.000      137.000       56.000       53.000      998.000   \n",
       "max           660.000     1091.000     2461.000     2467.000     4962.000   \n",
       "\n",
       "            TaxiIn      TaxiOut    Cancelled     Diverted  CarrierDelay  \\\n",
       "count  1929648.000  1936303.000  1936758.000  1936758.000   1247488.000   \n",
       "mean         6.813       18.232        0.000        0.004        19.179   \n",
       "std          5.274       14.339        0.018        0.063        43.546   \n",
       "min          0.000        0.000        0.000        0.000         0.000   \n",
       "25%          4.000       10.000        0.000        0.000         0.000   \n",
       "50%          6.000       14.000        0.000        0.000         2.000   \n",
       "75%          8.000       21.000        0.000        0.000        21.000   \n",
       "max        240.000      422.000        1.000        1.000      2436.000   \n",
       "\n",
       "       WeatherDelay     NASDelay  SecurityDelay  LateAircraftDelay  \n",
       "count   1247488.000  1247488.000    1247488.000        1247488.000  \n",
       "mean          3.704       15.022          0.090             25.296  \n",
       "std          21.493       33.833          2.023             42.055  \n",
       "min           0.000        0.000          0.000              0.000  \n",
       "25%           0.000        0.000          0.000              0.000  \n",
       "50%           0.000        2.000          0.000              8.000  \n",
       "75%           0.000       15.000          0.000             33.000  \n",
       "max        1352.000     1357.000        392.000           1316.000  "
      ]
     },
     "execution_count": 11,
     "metadata": {},
     "output_type": "execute_result"
    }
   ],
   "source": [
    "df.describe().round(3)"
   ]
  },
  {
   "cell_type": "code",
   "execution_count": 12,
   "metadata": {
    "colab": {
     "base_uri": "https://localhost:8080/"
    },
    "id": "OOfemVfaORq7",
    "outputId": "7bc43c8a-9a96-4c67-a63d-84a1f547f6cb"
   },
   "outputs": [
    {
     "name": "stdout",
     "output_type": "stream",
     "text": [
      "<class 'pandas.core.frame.DataFrame'>\n",
      "RangeIndex: 1936758 entries, 0 to 1936757\n",
      "Data columns (total 29 columns):\n",
      " #   Column             Dtype  \n",
      "---  ------             -----  \n",
      " 0   Year               int64  \n",
      " 1   Month              int64  \n",
      " 2   DayofMonth         int64  \n",
      " 3   DayOfWeek          int64  \n",
      " 4   DepTime            float64\n",
      " 5   CRSDepTime         int64  \n",
      " 6   ArrTime            float64\n",
      " 7   CRSArrTime         int64  \n",
      " 8   UniqueCarrier      object \n",
      " 9   FlightNum          int64  \n",
      " 10  TailNum            object \n",
      " 11  ActualElapsedTime  float64\n",
      " 12  CRSElapsedTime     float64\n",
      " 13  AirTime            float64\n",
      " 14  ArrDelay           float64\n",
      " 15  DepDelay           float64\n",
      " 16  Origin             object \n",
      " 17  Dest               object \n",
      " 18  Distance           int64  \n",
      " 19  TaxiIn             float64\n",
      " 20  TaxiOut            float64\n",
      " 21  Cancelled          int64  \n",
      " 22  CancellationCode   object \n",
      " 23  Diverted           int64  \n",
      " 24  CarrierDelay       float64\n",
      " 25  WeatherDelay       float64\n",
      " 26  NASDelay           float64\n",
      " 27  SecurityDelay      float64\n",
      " 28  LateAircraftDelay  float64\n",
      "dtypes: float64(14), int64(10), object(5)\n",
      "memory usage: 428.5+ MB\n"
     ]
    }
   ],
   "source": [
    "df.info()"
   ]
  },
  {
   "cell_type": "code",
   "execution_count": 13,
   "metadata": {
    "id": "AQGQ6bXbOTPz"
   },
   "outputs": [],
   "source": [
    "#elimino NAN \n",
    "dflimpio=df.dropna()"
   ]
  },
  {
   "cell_type": "code",
   "execution_count": 14,
   "metadata": {
    "colab": {
     "base_uri": "https://localhost:8080/"
    },
    "id": "P_PI0ZCzOVy3",
    "outputId": "cfd5450c-6beb-41cf-c063-f2ca657ceafe"
   },
   "outputs": [
    {
     "name": "stdout",
     "output_type": "stream",
     "text": [
      "<class 'pandas.core.frame.DataFrame'>\n",
      "Int64Index: 1247486 entries, 3 to 1936755\n",
      "Data columns (total 29 columns):\n",
      " #   Column             Non-Null Count    Dtype  \n",
      "---  ------             --------------    -----  \n",
      " 0   Year               1247486 non-null  int64  \n",
      " 1   Month              1247486 non-null  int64  \n",
      " 2   DayofMonth         1247486 non-null  int64  \n",
      " 3   DayOfWeek          1247486 non-null  int64  \n",
      " 4   DepTime            1247486 non-null  float64\n",
      " 5   CRSDepTime         1247486 non-null  int64  \n",
      " 6   ArrTime            1247486 non-null  float64\n",
      " 7   CRSArrTime         1247486 non-null  int64  \n",
      " 8   UniqueCarrier      1247486 non-null  object \n",
      " 9   FlightNum          1247486 non-null  int64  \n",
      " 10  TailNum            1247486 non-null  object \n",
      " 11  ActualElapsedTime  1247486 non-null  float64\n",
      " 12  CRSElapsedTime     1247486 non-null  float64\n",
      " 13  AirTime            1247486 non-null  float64\n",
      " 14  ArrDelay           1247486 non-null  float64\n",
      " 15  DepDelay           1247486 non-null  float64\n",
      " 16  Origin             1247486 non-null  object \n",
      " 17  Dest               1247486 non-null  object \n",
      " 18  Distance           1247486 non-null  int64  \n",
      " 19  TaxiIn             1247486 non-null  float64\n",
      " 20  TaxiOut            1247486 non-null  float64\n",
      " 21  Cancelled          1247486 non-null  int64  \n",
      " 22  CancellationCode   1247486 non-null  object \n",
      " 23  Diverted           1247486 non-null  int64  \n",
      " 24  CarrierDelay       1247486 non-null  float64\n",
      " 25  WeatherDelay       1247486 non-null  float64\n",
      " 26  NASDelay           1247486 non-null  float64\n",
      " 27  SecurityDelay      1247486 non-null  float64\n",
      " 28  LateAircraftDelay  1247486 non-null  float64\n",
      "dtypes: float64(14), int64(10), object(5)\n",
      "memory usage: 285.5+ MB\n"
     ]
    }
   ],
   "source": [
    "dflimpio.info()"
   ]
  },
  {
   "cell_type": "code",
   "execution_count": 15,
   "metadata": {
    "id": "s7rwLSDBOXYb"
   },
   "outputs": [],
   "source": [
    "dflimpio2=dflimpio[['Year', 'Month', 'DayofMonth', 'DayOfWeek', 'DepTime', 'CRSDepTime',\n",
    "       'ArrTime', 'CRSArrTime', 'UniqueCarrier',\n",
    "       'ActualElapsedTime', 'CRSElapsedTime', 'AirTime', 'ArrDelay',\n",
    "       'DepDelay', 'Origin', 'Dest', 'Distance', 'TaxiIn', 'TaxiOut',\n",
    "       'Cancelled', 'Diverted', 'CarrierDelay',\n",
    "       'WeatherDelay', 'NASDelay', 'SecurityDelay', 'LateAircraftDelay']]"
   ]
  },
  {
   "cell_type": "code",
   "execution_count": 16,
   "metadata": {
    "id": "PUEqcxTkOaCz"
   },
   "outputs": [],
   "source": [
    "# Label encoder para variables categoricas\n",
    "le = LabelEncoder()\n",
    "\n"
   ]
  },
  {
   "cell_type": "code",
   "execution_count": 17,
   "metadata": {
    "colab": {
     "base_uri": "https://localhost:8080/",
     "height": 223
    },
    "id": "Hl1coYyCOcVE",
    "outputId": "6fa4cac4-b7c0-4f6f-87ba-6872e59b2f55"
   },
   "outputs": [
    {
     "data": {
      "text/html": [
       "<div>\n",
       "<style scoped>\n",
       "    .dataframe tbody tr th:only-of-type {\n",
       "        vertical-align: middle;\n",
       "    }\n",
       "\n",
       "    .dataframe tbody tr th {\n",
       "        vertical-align: top;\n",
       "    }\n",
       "\n",
       "    .dataframe thead th {\n",
       "        text-align: right;\n",
       "    }\n",
       "</style>\n",
       "<table border=\"1\" class=\"dataframe\">\n",
       "  <thead>\n",
       "    <tr style=\"text-align: right;\">\n",
       "      <th></th>\n",
       "      <th>Year</th>\n",
       "      <th>Month</th>\n",
       "      <th>DayofMonth</th>\n",
       "      <th>DayOfWeek</th>\n",
       "      <th>DepTime</th>\n",
       "      <th>CRSDepTime</th>\n",
       "      <th>ArrTime</th>\n",
       "      <th>CRSArrTime</th>\n",
       "      <th>UniqueCarrier</th>\n",
       "      <th>ActualElapsedTime</th>\n",
       "      <th>CRSElapsedTime</th>\n",
       "      <th>AirTime</th>\n",
       "      <th>ArrDelay</th>\n",
       "      <th>DepDelay</th>\n",
       "      <th>Origin</th>\n",
       "      <th>Dest</th>\n",
       "      <th>Distance</th>\n",
       "      <th>TaxiIn</th>\n",
       "      <th>TaxiOut</th>\n",
       "      <th>Cancelled</th>\n",
       "      <th>Diverted</th>\n",
       "      <th>CarrierDelay</th>\n",
       "      <th>WeatherDelay</th>\n",
       "      <th>NASDelay</th>\n",
       "      <th>SecurityDelay</th>\n",
       "      <th>LateAircraftDelay</th>\n",
       "    </tr>\n",
       "  </thead>\n",
       "  <tbody>\n",
       "    <tr>\n",
       "      <th>3</th>\n",
       "      <td>2008</td>\n",
       "      <td>1</td>\n",
       "      <td>3</td>\n",
       "      <td>4</td>\n",
       "      <td>1829.0</td>\n",
       "      <td>1755</td>\n",
       "      <td>1959.0</td>\n",
       "      <td>1925</td>\n",
       "      <td>WN</td>\n",
       "      <td>90.0</td>\n",
       "      <td>90.0</td>\n",
       "      <td>77.0</td>\n",
       "      <td>34.0</td>\n",
       "      <td>34.0</td>\n",
       "      <td>IND</td>\n",
       "      <td>BWI</td>\n",
       "      <td>515</td>\n",
       "      <td>3.0</td>\n",
       "      <td>10.0</td>\n",
       "      <td>0</td>\n",
       "      <td>0</td>\n",
       "      <td>2.0</td>\n",
       "      <td>0.0</td>\n",
       "      <td>0.0</td>\n",
       "      <td>0.0</td>\n",
       "      <td>32.0</td>\n",
       "    </tr>\n",
       "    <tr>\n",
       "      <th>5</th>\n",
       "      <td>2008</td>\n",
       "      <td>1</td>\n",
       "      <td>3</td>\n",
       "      <td>4</td>\n",
       "      <td>1937.0</td>\n",
       "      <td>1830</td>\n",
       "      <td>2037.0</td>\n",
       "      <td>1940</td>\n",
       "      <td>WN</td>\n",
       "      <td>240.0</td>\n",
       "      <td>250.0</td>\n",
       "      <td>230.0</td>\n",
       "      <td>57.0</td>\n",
       "      <td>67.0</td>\n",
       "      <td>IND</td>\n",
       "      <td>LAS</td>\n",
       "      <td>1591</td>\n",
       "      <td>3.0</td>\n",
       "      <td>7.0</td>\n",
       "      <td>0</td>\n",
       "      <td>0</td>\n",
       "      <td>10.0</td>\n",
       "      <td>0.0</td>\n",
       "      <td>0.0</td>\n",
       "      <td>0.0</td>\n",
       "      <td>47.0</td>\n",
       "    </tr>\n",
       "    <tr>\n",
       "      <th>7</th>\n",
       "      <td>2008</td>\n",
       "      <td>1</td>\n",
       "      <td>3</td>\n",
       "      <td>4</td>\n",
       "      <td>1644.0</td>\n",
       "      <td>1510</td>\n",
       "      <td>1845.0</td>\n",
       "      <td>1725</td>\n",
       "      <td>WN</td>\n",
       "      <td>121.0</td>\n",
       "      <td>135.0</td>\n",
       "      <td>107.0</td>\n",
       "      <td>80.0</td>\n",
       "      <td>94.0</td>\n",
       "      <td>IND</td>\n",
       "      <td>MCO</td>\n",
       "      <td>828</td>\n",
       "      <td>6.0</td>\n",
       "      <td>8.0</td>\n",
       "      <td>0</td>\n",
       "      <td>0</td>\n",
       "      <td>8.0</td>\n",
       "      <td>0.0</td>\n",
       "      <td>0.0</td>\n",
       "      <td>0.0</td>\n",
       "      <td>72.0</td>\n",
       "    </tr>\n",
       "    <tr>\n",
       "      <th>9</th>\n",
       "      <td>2008</td>\n",
       "      <td>1</td>\n",
       "      <td>3</td>\n",
       "      <td>4</td>\n",
       "      <td>1452.0</td>\n",
       "      <td>1425</td>\n",
       "      <td>1640.0</td>\n",
       "      <td>1625</td>\n",
       "      <td>WN</td>\n",
       "      <td>228.0</td>\n",
       "      <td>240.0</td>\n",
       "      <td>213.0</td>\n",
       "      <td>15.0</td>\n",
       "      <td>27.0</td>\n",
       "      <td>IND</td>\n",
       "      <td>PHX</td>\n",
       "      <td>1489</td>\n",
       "      <td>7.0</td>\n",
       "      <td>8.0</td>\n",
       "      <td>0</td>\n",
       "      <td>0</td>\n",
       "      <td>3.0</td>\n",
       "      <td>0.0</td>\n",
       "      <td>0.0</td>\n",
       "      <td>0.0</td>\n",
       "      <td>12.0</td>\n",
       "    </tr>\n",
       "    <tr>\n",
       "      <th>11</th>\n",
       "      <td>2008</td>\n",
       "      <td>1</td>\n",
       "      <td>3</td>\n",
       "      <td>4</td>\n",
       "      <td>1323.0</td>\n",
       "      <td>1255</td>\n",
       "      <td>1526.0</td>\n",
       "      <td>1510</td>\n",
       "      <td>WN</td>\n",
       "      <td>123.0</td>\n",
       "      <td>135.0</td>\n",
       "      <td>110.0</td>\n",
       "      <td>16.0</td>\n",
       "      <td>28.0</td>\n",
       "      <td>IND</td>\n",
       "      <td>TPA</td>\n",
       "      <td>838</td>\n",
       "      <td>4.0</td>\n",
       "      <td>9.0</td>\n",
       "      <td>0</td>\n",
       "      <td>0</td>\n",
       "      <td>0.0</td>\n",
       "      <td>0.0</td>\n",
       "      <td>0.0</td>\n",
       "      <td>0.0</td>\n",
       "      <td>16.0</td>\n",
       "    </tr>\n",
       "  </tbody>\n",
       "</table>\n",
       "</div>"
      ],
      "text/plain": [
       "    Year  Month  DayofMonth  DayOfWeek  DepTime  CRSDepTime  ArrTime  \\\n",
       "3   2008      1           3          4   1829.0        1755   1959.0   \n",
       "5   2008      1           3          4   1937.0        1830   2037.0   \n",
       "7   2008      1           3          4   1644.0        1510   1845.0   \n",
       "9   2008      1           3          4   1452.0        1425   1640.0   \n",
       "11  2008      1           3          4   1323.0        1255   1526.0   \n",
       "\n",
       "    CRSArrTime UniqueCarrier  ActualElapsedTime  CRSElapsedTime  AirTime  \\\n",
       "3         1925            WN               90.0            90.0     77.0   \n",
       "5         1940            WN              240.0           250.0    230.0   \n",
       "7         1725            WN              121.0           135.0    107.0   \n",
       "9         1625            WN              228.0           240.0    213.0   \n",
       "11        1510            WN              123.0           135.0    110.0   \n",
       "\n",
       "    ArrDelay  DepDelay Origin Dest  Distance  TaxiIn  TaxiOut  Cancelled  \\\n",
       "3       34.0      34.0    IND  BWI       515     3.0     10.0          0   \n",
       "5       57.0      67.0    IND  LAS      1591     3.0      7.0          0   \n",
       "7       80.0      94.0    IND  MCO       828     6.0      8.0          0   \n",
       "9       15.0      27.0    IND  PHX      1489     7.0      8.0          0   \n",
       "11      16.0      28.0    IND  TPA       838     4.0      9.0          0   \n",
       "\n",
       "    Diverted  CarrierDelay  WeatherDelay  NASDelay  SecurityDelay  \\\n",
       "3          0           2.0           0.0       0.0            0.0   \n",
       "5          0          10.0           0.0       0.0            0.0   \n",
       "7          0           8.0           0.0       0.0            0.0   \n",
       "9          0           3.0           0.0       0.0            0.0   \n",
       "11         0           0.0           0.0       0.0            0.0   \n",
       "\n",
       "    LateAircraftDelay  \n",
       "3                32.0  \n",
       "5                47.0  \n",
       "7                72.0  \n",
       "9                12.0  \n",
       "11               16.0  "
      ]
     },
     "execution_count": 17,
     "metadata": {},
     "output_type": "execute_result"
    }
   ],
   "source": [
    "dflimpio2.head()"
   ]
  },
  {
   "cell_type": "code",
   "execution_count": 18,
   "metadata": {
    "id": "0gfUTP1WTOSU"
   },
   "outputs": [],
   "source": [
    "#Codifico las variables categoricas\n",
    "categoricas=['UniqueCarrier','Origin', 'Dest' ]"
   ]
  },
  {
   "cell_type": "code",
   "execution_count": 19,
   "metadata": {
    "colab": {
     "base_uri": "https://localhost:8080/"
    },
    "id": "UHIuii8Zbd0h",
    "outputId": "d4f39fa9-192a-460c-8e72-4265785b62f6"
   },
   "outputs": [
    {
     "name": "stderr",
     "output_type": "stream",
     "text": [
      "<ipython-input-19-901b05a54e5a>:2: SettingWithCopyWarning: \n",
      "A value is trying to be set on a copy of a slice from a DataFrame.\n",
      "Try using .loc[row_indexer,col_indexer] = value instead\n",
      "\n",
      "See the caveats in the documentation: https://pandas.pydata.org/pandas-docs/stable/user_guide/indexing.html#returning-a-view-versus-a-copy\n",
      "  dflimpio2[categoria]=le.fit_transform(dflimpio2[categoria])\n"
     ]
    }
   ],
   "source": [
    "for categoria in categoricas:\n",
    "  dflimpio2[categoria]=le.fit_transform(dflimpio2[categoria])"
   ]
  },
  {
   "cell_type": "code",
   "execution_count": 20,
   "metadata": {
    "colab": {
     "base_uri": "https://localhost:8080/",
     "height": 223
    },
    "id": "w0YiKEzhXoaL",
    "outputId": "072db011-eca2-428f-bbbd-91e4f68268ba"
   },
   "outputs": [
    {
     "data": {
      "text/html": [
       "<div>\n",
       "<style scoped>\n",
       "    .dataframe tbody tr th:only-of-type {\n",
       "        vertical-align: middle;\n",
       "    }\n",
       "\n",
       "    .dataframe tbody tr th {\n",
       "        vertical-align: top;\n",
       "    }\n",
       "\n",
       "    .dataframe thead th {\n",
       "        text-align: right;\n",
       "    }\n",
       "</style>\n",
       "<table border=\"1\" class=\"dataframe\">\n",
       "  <thead>\n",
       "    <tr style=\"text-align: right;\">\n",
       "      <th></th>\n",
       "      <th>Year</th>\n",
       "      <th>Month</th>\n",
       "      <th>DayofMonth</th>\n",
       "      <th>DayOfWeek</th>\n",
       "      <th>DepTime</th>\n",
       "      <th>CRSDepTime</th>\n",
       "      <th>ArrTime</th>\n",
       "      <th>CRSArrTime</th>\n",
       "      <th>UniqueCarrier</th>\n",
       "      <th>ActualElapsedTime</th>\n",
       "      <th>CRSElapsedTime</th>\n",
       "      <th>AirTime</th>\n",
       "      <th>ArrDelay</th>\n",
       "      <th>DepDelay</th>\n",
       "      <th>Origin</th>\n",
       "      <th>Dest</th>\n",
       "      <th>Distance</th>\n",
       "      <th>TaxiIn</th>\n",
       "      <th>TaxiOut</th>\n",
       "      <th>Cancelled</th>\n",
       "      <th>Diverted</th>\n",
       "      <th>CarrierDelay</th>\n",
       "      <th>WeatherDelay</th>\n",
       "      <th>NASDelay</th>\n",
       "      <th>SecurityDelay</th>\n",
       "      <th>LateAircraftDelay</th>\n",
       "    </tr>\n",
       "  </thead>\n",
       "  <tbody>\n",
       "    <tr>\n",
       "      <th>3</th>\n",
       "      <td>2008</td>\n",
       "      <td>1</td>\n",
       "      <td>3</td>\n",
       "      <td>4</td>\n",
       "      <td>1829.0</td>\n",
       "      <td>1755</td>\n",
       "      <td>1959.0</td>\n",
       "      <td>1925</td>\n",
       "      <td>17</td>\n",
       "      <td>90.0</td>\n",
       "      <td>90.0</td>\n",
       "      <td>77.0</td>\n",
       "      <td>34.0</td>\n",
       "      <td>34.0</td>\n",
       "      <td>140</td>\n",
       "      <td>48</td>\n",
       "      <td>515</td>\n",
       "      <td>3.0</td>\n",
       "      <td>10.0</td>\n",
       "      <td>0</td>\n",
       "      <td>0</td>\n",
       "      <td>2.0</td>\n",
       "      <td>0.0</td>\n",
       "      <td>0.0</td>\n",
       "      <td>0.0</td>\n",
       "      <td>32.0</td>\n",
       "    </tr>\n",
       "    <tr>\n",
       "      <th>5</th>\n",
       "      <td>2008</td>\n",
       "      <td>1</td>\n",
       "      <td>3</td>\n",
       "      <td>4</td>\n",
       "      <td>1937.0</td>\n",
       "      <td>1830</td>\n",
       "      <td>2037.0</td>\n",
       "      <td>1940</td>\n",
       "      <td>17</td>\n",
       "      <td>240.0</td>\n",
       "      <td>250.0</td>\n",
       "      <td>230.0</td>\n",
       "      <td>57.0</td>\n",
       "      <td>67.0</td>\n",
       "      <td>140</td>\n",
       "      <td>155</td>\n",
       "      <td>1591</td>\n",
       "      <td>3.0</td>\n",
       "      <td>7.0</td>\n",
       "      <td>0</td>\n",
       "      <td>0</td>\n",
       "      <td>10.0</td>\n",
       "      <td>0.0</td>\n",
       "      <td>0.0</td>\n",
       "      <td>0.0</td>\n",
       "      <td>47.0</td>\n",
       "    </tr>\n",
       "    <tr>\n",
       "      <th>7</th>\n",
       "      <td>2008</td>\n",
       "      <td>1</td>\n",
       "      <td>3</td>\n",
       "      <td>4</td>\n",
       "      <td>1644.0</td>\n",
       "      <td>1510</td>\n",
       "      <td>1845.0</td>\n",
       "      <td>1725</td>\n",
       "      <td>17</td>\n",
       "      <td>121.0</td>\n",
       "      <td>135.0</td>\n",
       "      <td>107.0</td>\n",
       "      <td>80.0</td>\n",
       "      <td>94.0</td>\n",
       "      <td>140</td>\n",
       "      <td>177</td>\n",
       "      <td>828</td>\n",
       "      <td>6.0</td>\n",
       "      <td>8.0</td>\n",
       "      <td>0</td>\n",
       "      <td>0</td>\n",
       "      <td>8.0</td>\n",
       "      <td>0.0</td>\n",
       "      <td>0.0</td>\n",
       "      <td>0.0</td>\n",
       "      <td>72.0</td>\n",
       "    </tr>\n",
       "    <tr>\n",
       "      <th>9</th>\n",
       "      <td>2008</td>\n",
       "      <td>1</td>\n",
       "      <td>3</td>\n",
       "      <td>4</td>\n",
       "      <td>1452.0</td>\n",
       "      <td>1425</td>\n",
       "      <td>1640.0</td>\n",
       "      <td>1625</td>\n",
       "      <td>17</td>\n",
       "      <td>228.0</td>\n",
       "      <td>240.0</td>\n",
       "      <td>213.0</td>\n",
       "      <td>15.0</td>\n",
       "      <td>27.0</td>\n",
       "      <td>140</td>\n",
       "      <td>220</td>\n",
       "      <td>1489</td>\n",
       "      <td>7.0</td>\n",
       "      <td>8.0</td>\n",
       "      <td>0</td>\n",
       "      <td>0</td>\n",
       "      <td>3.0</td>\n",
       "      <td>0.0</td>\n",
       "      <td>0.0</td>\n",
       "      <td>0.0</td>\n",
       "      <td>12.0</td>\n",
       "    </tr>\n",
       "    <tr>\n",
       "      <th>11</th>\n",
       "      <td>2008</td>\n",
       "      <td>1</td>\n",
       "      <td>3</td>\n",
       "      <td>4</td>\n",
       "      <td>1323.0</td>\n",
       "      <td>1255</td>\n",
       "      <td>1526.0</td>\n",
       "      <td>1510</td>\n",
       "      <td>17</td>\n",
       "      <td>123.0</td>\n",
       "      <td>135.0</td>\n",
       "      <td>110.0</td>\n",
       "      <td>16.0</td>\n",
       "      <td>28.0</td>\n",
       "      <td>140</td>\n",
       "      <td>284</td>\n",
       "      <td>838</td>\n",
       "      <td>4.0</td>\n",
       "      <td>9.0</td>\n",
       "      <td>0</td>\n",
       "      <td>0</td>\n",
       "      <td>0.0</td>\n",
       "      <td>0.0</td>\n",
       "      <td>0.0</td>\n",
       "      <td>0.0</td>\n",
       "      <td>16.0</td>\n",
       "    </tr>\n",
       "  </tbody>\n",
       "</table>\n",
       "</div>"
      ],
      "text/plain": [
       "    Year  Month  DayofMonth  DayOfWeek  DepTime  CRSDepTime  ArrTime  \\\n",
       "3   2008      1           3          4   1829.0        1755   1959.0   \n",
       "5   2008      1           3          4   1937.0        1830   2037.0   \n",
       "7   2008      1           3          4   1644.0        1510   1845.0   \n",
       "9   2008      1           3          4   1452.0        1425   1640.0   \n",
       "11  2008      1           3          4   1323.0        1255   1526.0   \n",
       "\n",
       "    CRSArrTime  UniqueCarrier  ActualElapsedTime  CRSElapsedTime  AirTime  \\\n",
       "3         1925             17               90.0            90.0     77.0   \n",
       "5         1940             17              240.0           250.0    230.0   \n",
       "7         1725             17              121.0           135.0    107.0   \n",
       "9         1625             17              228.0           240.0    213.0   \n",
       "11        1510             17              123.0           135.0    110.0   \n",
       "\n",
       "    ArrDelay  DepDelay  Origin  Dest  Distance  TaxiIn  TaxiOut  Cancelled  \\\n",
       "3       34.0      34.0     140    48       515     3.0     10.0          0   \n",
       "5       57.0      67.0     140   155      1591     3.0      7.0          0   \n",
       "7       80.0      94.0     140   177       828     6.0      8.0          0   \n",
       "9       15.0      27.0     140   220      1489     7.0      8.0          0   \n",
       "11      16.0      28.0     140   284       838     4.0      9.0          0   \n",
       "\n",
       "    Diverted  CarrierDelay  WeatherDelay  NASDelay  SecurityDelay  \\\n",
       "3          0           2.0           0.0       0.0            0.0   \n",
       "5          0          10.0           0.0       0.0            0.0   \n",
       "7          0           8.0           0.0       0.0            0.0   \n",
       "9          0           3.0           0.0       0.0            0.0   \n",
       "11         0           0.0           0.0       0.0            0.0   \n",
       "\n",
       "    LateAircraftDelay  \n",
       "3                32.0  \n",
       "5                47.0  \n",
       "7                72.0  \n",
       "9                12.0  \n",
       "11               16.0  "
      ]
     },
     "execution_count": 20,
     "metadata": {},
     "output_type": "execute_result"
    }
   ],
   "source": [
    "dflimpio2.head()"
   ]
  },
  {
   "cell_type": "code",
   "execution_count": 21,
   "metadata": {
    "id": "qtsim5buZQd1"
   },
   "outputs": [],
   "source": [
    "#Con standarEscaler estandirizo las variables"
   ]
  },
  {
   "cell_type": "code",
   "execution_count": 22,
   "metadata": {
    "id": "zsFWMFdmeK-J"
   },
   "outputs": [],
   "source": [
    "scaler = StandardScaler()"
   ]
  },
  {
   "cell_type": "code",
   "execution_count": 23,
   "metadata": {
    "colab": {
     "base_uri": "https://localhost:8080/"
    },
    "id": "QryuzYQ6fA9D",
    "outputId": "8d0fd8c0-b5b6-424c-abcd-bff2b29d4554"
   },
   "outputs": [
    {
     "data": {
      "text/plain": [
       "StandardScaler()"
      ]
     },
     "execution_count": 23,
     "metadata": {},
     "output_type": "execute_result"
    }
   ],
   "source": [
    "scaler.fit(dflimpio2)"
   ]
  },
  {
   "cell_type": "code",
   "execution_count": 24,
   "metadata": {
    "id": "lz19A3G9fpdB"
   },
   "outputs": [],
   "source": [
    "dflimpio2SC=scaler.transform(dflimpio2)"
   ]
  },
  {
   "cell_type": "code",
   "execution_count": 25,
   "metadata": {
    "id": "o5Jey_IzfMcq"
   },
   "outputs": [],
   "source": [
    "dflimpio2SCDF=pd.DataFrame(dflimpio2SC)"
   ]
  },
  {
   "cell_type": "code",
   "execution_count": 26,
   "metadata": {
    "id": "cwT94tqyfO36"
   },
   "outputs": [],
   "source": [
    "dflimpio2SCDF.columns=dflimpio2.columns"
   ]
  },
  {
   "cell_type": "code",
   "execution_count": 27,
   "metadata": {
    "colab": {
     "base_uri": "https://localhost:8080/",
     "height": 223
    },
    "id": "H7-e5xUvglKD",
    "outputId": "613e2f8a-f46c-4d67-9a5d-4007685583f7"
   },
   "outputs": [
    {
     "data": {
      "text/html": [
       "<div>\n",
       "<style scoped>\n",
       "    .dataframe tbody tr th:only-of-type {\n",
       "        vertical-align: middle;\n",
       "    }\n",
       "\n",
       "    .dataframe tbody tr th {\n",
       "        vertical-align: top;\n",
       "    }\n",
       "\n",
       "    .dataframe thead th {\n",
       "        text-align: right;\n",
       "    }\n",
       "</style>\n",
       "<table border=\"1\" class=\"dataframe\">\n",
       "  <thead>\n",
       "    <tr style=\"text-align: right;\">\n",
       "      <th></th>\n",
       "      <th>Year</th>\n",
       "      <th>Month</th>\n",
       "      <th>DayofMonth</th>\n",
       "      <th>DayOfWeek</th>\n",
       "      <th>DepTime</th>\n",
       "      <th>CRSDepTime</th>\n",
       "      <th>ArrTime</th>\n",
       "      <th>CRSArrTime</th>\n",
       "      <th>UniqueCarrier</th>\n",
       "      <th>ActualElapsedTime</th>\n",
       "      <th>CRSElapsedTime</th>\n",
       "      <th>AirTime</th>\n",
       "      <th>ArrDelay</th>\n",
       "      <th>DepDelay</th>\n",
       "      <th>Origin</th>\n",
       "      <th>Dest</th>\n",
       "      <th>Distance</th>\n",
       "      <th>TaxiIn</th>\n",
       "      <th>TaxiOut</th>\n",
       "      <th>Cancelled</th>\n",
       "      <th>Diverted</th>\n",
       "      <th>CarrierDelay</th>\n",
       "      <th>WeatherDelay</th>\n",
       "      <th>NASDelay</th>\n",
       "      <th>SecurityDelay</th>\n",
       "      <th>LateAircraftDelay</th>\n",
       "    </tr>\n",
       "  </thead>\n",
       "  <tbody>\n",
       "    <tr>\n",
       "      <th>0</th>\n",
       "      <td>0.0</td>\n",
       "      <td>-1.443571</td>\n",
       "      <td>-1.447221</td>\n",
       "      <td>0.009992</td>\n",
       "      <td>0.594652</td>\n",
       "      <td>0.634057</td>\n",
       "      <td>0.586105</td>\n",
       "      <td>0.590254</td>\n",
       "      <td>1.014621</td>\n",
       "      <td>-0.627665</td>\n",
       "      <td>-0.600645</td>\n",
       "      <td>-0.446213</td>\n",
       "      <td>-0.482127</td>\n",
       "      <td>-0.428891</td>\n",
       "      <td>-0.067902</td>\n",
       "      <td>-1.258892</td>\n",
       "      <td>-0.405079</td>\n",
       "      <td>-0.712260</td>\n",
       "      <td>-0.639115</td>\n",
       "      <td>0.0</td>\n",
       "      <td>0.0</td>\n",
       "      <td>-0.394510</td>\n",
       "      <td>-0.172317</td>\n",
       "      <td>-0.443992</td>\n",
       "      <td>-0.044563</td>\n",
       "      <td>0.159399</td>\n",
       "    </tr>\n",
       "    <tr>\n",
       "      <th>1</th>\n",
       "      <td>0.0</td>\n",
       "      <td>-1.443571</td>\n",
       "      <td>-1.447221</td>\n",
       "      <td>0.009992</td>\n",
       "      <td>0.832365</td>\n",
       "      <td>0.812129</td>\n",
       "      <td>0.719680</td>\n",
       "      <td>0.622740</td>\n",
       "      <td>1.014621</td>\n",
       "      <td>1.447129</td>\n",
       "      <td>1.700454</td>\n",
       "      <td>1.798028</td>\n",
       "      <td>-0.103550</td>\n",
       "      <td>0.122314</td>\n",
       "      <td>-0.067902</td>\n",
       "      <td>0.070285</td>\n",
       "      <td>1.518534</td>\n",
       "      <td>-0.712260</td>\n",
       "      <td>-0.818973</td>\n",
       "      <td>0.0</td>\n",
       "      <td>0.0</td>\n",
       "      <td>-0.210797</td>\n",
       "      <td>-0.172317</td>\n",
       "      <td>-0.443992</td>\n",
       "      <td>-0.044563</td>\n",
       "      <td>0.516076</td>\n",
       "    </tr>\n",
       "    <tr>\n",
       "      <th>2</th>\n",
       "      <td>0.0</td>\n",
       "      <td>-1.443571</td>\n",
       "      <td>-1.447221</td>\n",
       "      <td>0.009992</td>\n",
       "      <td>0.187459</td>\n",
       "      <td>0.052355</td>\n",
       "      <td>0.390880</td>\n",
       "      <td>0.157107</td>\n",
       "      <td>1.014621</td>\n",
       "      <td>-0.198874</td>\n",
       "      <td>0.046539</td>\n",
       "      <td>-0.006165</td>\n",
       "      <td>0.275028</td>\n",
       "      <td>0.573300</td>\n",
       "      <td>-0.067902</td>\n",
       "      <td>0.343574</td>\n",
       "      <td>0.154485</td>\n",
       "      <td>-0.215014</td>\n",
       "      <td>-0.759021</td>\n",
       "      <td>0.0</td>\n",
       "      <td>0.0</td>\n",
       "      <td>-0.256726</td>\n",
       "      <td>-0.172317</td>\n",
       "      <td>-0.443992</td>\n",
       "      <td>-0.044563</td>\n",
       "      <td>1.110537</td>\n",
       "    </tr>\n",
       "    <tr>\n",
       "      <th>3</th>\n",
       "      <td>0.0</td>\n",
       "      <td>-1.443571</td>\n",
       "      <td>-1.447221</td>\n",
       "      <td>0.009992</td>\n",
       "      <td>-0.235142</td>\n",
       "      <td>-0.149460</td>\n",
       "      <td>0.039818</td>\n",
       "      <td>-0.059466</td>\n",
       "      <td>1.014621</td>\n",
       "      <td>1.281145</td>\n",
       "      <td>1.556635</td>\n",
       "      <td>1.548668</td>\n",
       "      <td>-0.794865</td>\n",
       "      <td>-0.545814</td>\n",
       "      <td>-0.067902</td>\n",
       "      <td>0.877729</td>\n",
       "      <td>1.336184</td>\n",
       "      <td>-0.049266</td>\n",
       "      <td>-0.759021</td>\n",
       "      <td>0.0</td>\n",
       "      <td>0.0</td>\n",
       "      <td>-0.371546</td>\n",
       "      <td>-0.172317</td>\n",
       "      <td>-0.443992</td>\n",
       "      <td>-0.044563</td>\n",
       "      <td>-0.316170</td>\n",
       "    </tr>\n",
       "    <tr>\n",
       "      <th>4</th>\n",
       "      <td>0.0</td>\n",
       "      <td>-1.443571</td>\n",
       "      <td>-1.447221</td>\n",
       "      <td>0.009992</td>\n",
       "      <td>-0.519076</td>\n",
       "      <td>-0.553089</td>\n",
       "      <td>-0.155408</td>\n",
       "      <td>-0.308526</td>\n",
       "      <td>1.014621</td>\n",
       "      <td>-0.171210</td>\n",
       "      <td>0.046539</td>\n",
       "      <td>0.037839</td>\n",
       "      <td>-0.778405</td>\n",
       "      <td>-0.529111</td>\n",
       "      <td>-0.067902</td>\n",
       "      <td>1.672751</td>\n",
       "      <td>0.172362</td>\n",
       "      <td>-0.546511</td>\n",
       "      <td>-0.699068</td>\n",
       "      <td>0.0</td>\n",
       "      <td>0.0</td>\n",
       "      <td>-0.440438</td>\n",
       "      <td>-0.172317</td>\n",
       "      <td>-0.443992</td>\n",
       "      <td>-0.044563</td>\n",
       "      <td>-0.221056</td>\n",
       "    </tr>\n",
       "  </tbody>\n",
       "</table>\n",
       "</div>"
      ],
      "text/plain": [
       "   Year     Month  DayofMonth  DayOfWeek   DepTime  CRSDepTime   ArrTime  \\\n",
       "0   0.0 -1.443571   -1.447221   0.009992  0.594652    0.634057  0.586105   \n",
       "1   0.0 -1.443571   -1.447221   0.009992  0.832365    0.812129  0.719680   \n",
       "2   0.0 -1.443571   -1.447221   0.009992  0.187459    0.052355  0.390880   \n",
       "3   0.0 -1.443571   -1.447221   0.009992 -0.235142   -0.149460  0.039818   \n",
       "4   0.0 -1.443571   -1.447221   0.009992 -0.519076   -0.553089 -0.155408   \n",
       "\n",
       "   CRSArrTime  UniqueCarrier  ActualElapsedTime  CRSElapsedTime   AirTime  \\\n",
       "0    0.590254       1.014621          -0.627665       -0.600645 -0.446213   \n",
       "1    0.622740       1.014621           1.447129        1.700454  1.798028   \n",
       "2    0.157107       1.014621          -0.198874        0.046539 -0.006165   \n",
       "3   -0.059466       1.014621           1.281145        1.556635  1.548668   \n",
       "4   -0.308526       1.014621          -0.171210        0.046539  0.037839   \n",
       "\n",
       "   ArrDelay  DepDelay    Origin      Dest  Distance    TaxiIn   TaxiOut  \\\n",
       "0 -0.482127 -0.428891 -0.067902 -1.258892 -0.405079 -0.712260 -0.639115   \n",
       "1 -0.103550  0.122314 -0.067902  0.070285  1.518534 -0.712260 -0.818973   \n",
       "2  0.275028  0.573300 -0.067902  0.343574  0.154485 -0.215014 -0.759021   \n",
       "3 -0.794865 -0.545814 -0.067902  0.877729  1.336184 -0.049266 -0.759021   \n",
       "4 -0.778405 -0.529111 -0.067902  1.672751  0.172362 -0.546511 -0.699068   \n",
       "\n",
       "   Cancelled  Diverted  CarrierDelay  WeatherDelay  NASDelay  SecurityDelay  \\\n",
       "0        0.0       0.0     -0.394510     -0.172317 -0.443992      -0.044563   \n",
       "1        0.0       0.0     -0.210797     -0.172317 -0.443992      -0.044563   \n",
       "2        0.0       0.0     -0.256726     -0.172317 -0.443992      -0.044563   \n",
       "3        0.0       0.0     -0.371546     -0.172317 -0.443992      -0.044563   \n",
       "4        0.0       0.0     -0.440438     -0.172317 -0.443992      -0.044563   \n",
       "\n",
       "   LateAircraftDelay  \n",
       "0           0.159399  \n",
       "1           0.516076  \n",
       "2           1.110537  \n",
       "3          -0.316170  \n",
       "4          -0.221056  "
      ]
     },
     "execution_count": 27,
     "metadata": {},
     "output_type": "execute_result"
    }
   ],
   "source": [
    "dflimpio2SCDF.head()"
   ]
  },
  {
   "cell_type": "code",
   "execution_count": 28,
   "metadata": {
    "id": "QOi7nfFVg0MT"
   },
   "outputs": [],
   "source": [
    "pca = PCA(n_components=7)\n",
    "componentesprincipales = pca.fit_transform(dflimpio2SCDF)"
   ]
  },
  {
   "cell_type": "code",
   "execution_count": 29,
   "metadata": {
    "colab": {
     "base_uri": "https://localhost:8080/"
    },
    "id": "xSNqqSEKhJSL",
    "outputId": "cde090dc-a9c3-4de0-ce76-93fc6dfe4108"
   },
   "outputs": [
    {
     "data": {
      "text/plain": [
       "array([[-1.52100184,  0.64307348, -1.22691473, ..., -0.10298368,\n",
       "         0.03296614, -1.799921  ],\n",
       "       [ 2.67447898,  1.29483584, -1.30848501, ..., -0.59716899,\n",
       "         0.66781696, -1.60391502],\n",
       "       [-0.29806816,  0.68641336,  0.15470082, ..., -0.96337662,\n",
       "         0.26429066, -1.6389372 ],\n",
       "       ...,\n",
       "       [ 0.48896544, -1.13601118, -0.43718481, ...,  0.67758525,\n",
       "        -1.94522786,  0.53547232],\n",
       "       [-0.12294355, -3.08067727,  2.27115485, ..., -0.00961155,\n",
       "        -2.12078475,  0.69611747],\n",
       "       [ 0.67889638, -1.50230027,  1.80767989, ..., -0.08960659,\n",
       "        -1.03772743,  1.71146384]])"
      ]
     },
     "execution_count": 29,
     "metadata": {},
     "output_type": "execute_result"
    }
   ],
   "source": [
    "componentesprincipales"
   ]
  },
  {
   "cell_type": "code",
   "execution_count": 30,
   "metadata": {
    "id": "l301893hhMJC"
   },
   "outputs": [],
   "source": [
    "kmeans_kwargs = { \"init\": \"random\", \"n_init\": 10, \"max_iter\": 300,\"random_state\": 42}\n",
    "\n",
    "#La lista tiene valores de SSE (la suma  de errores cuadrados) para cada k\n",
    "sse = []\n",
    "for k in range(1, 11):\n",
    "    kmeans = KMeans(n_clusters=k, **kmeans_kwargs)\n",
    "    kmeans.fit(componentesprincipales)\n",
    "    sse.append(kmeans.inertia_)"
   ]
  },
  {
   "cell_type": "code",
   "execution_count": 31,
   "metadata": {
    "colab": {
     "base_uri": "https://localhost:8080/",
     "height": 318
    },
    "id": "QWt_-_SXjltr",
    "outputId": "4036c7a7-9c80-48b3-c0f1-cc10290c0350"
   },
   "outputs": [
    {
     "data": {
      "image/png": "[encoded data removed]",
      "text/plain": [
       "<Figure size 432x288 with 1 Axes>"
      ]
     },
     "metadata": {},
     "output_type": "display_data"
    }
   ],
   "source": [
    "plt.style.use(\"fivethirtyeight\")\n",
    "plt.plot(range(1, 11), sse)\n",
    "plt.xticks(range(1, 11))\n",
    "plt.xlabel(\"Numero de Clusters\")\n",
    "plt.ylabel(\"SSE\")\n",
    "plt.show()"
   ]
  },
  {
   "cell_type": "code",
   "execution_count": 32,
   "metadata": {
    "id": "WPdh7_Y2k-LW"
   },
   "outputs": [],
   "source": [
    "#Segun la grafica 4 cluster es el valor optimo"
   ]
  },
  {
   "cell_type": "code",
   "execution_count": 33,
   "metadata": {
    "colab": {
     "base_uri": "https://localhost:8080/"
    },
    "id": "QGKU6y3GHWgg",
    "outputId": "ea5b0305-ba94-448e-9b94-b6c637980ba7"
   },
   "outputs": [
    {
     "data": {
      "text/plain": [
       "KMeans(n_clusters=4, random_state=42)"
      ]
     },
     "execution_count": 33,
     "metadata": {},
     "output_type": "execute_result"
    }
   ],
   "source": [
    "kmeans_pca = KMeans(n_clusters = 4, init = 'k-means++', random_state = 42).fit(componentesprincipales)\n",
    "kmeans_pca"
   ]
  },
  {
   "cell_type": "code",
   "execution_count": 34,
   "metadata": {
    "id": "rEYXGtCyHm-k"
   },
   "outputs": [],
   "source": [
    "#Representacion Grafia"
   ]
  },
  {
   "cell_type": "code",
   "execution_count": 35,
   "metadata": {
    "id": "nu1vSVh9HtPQ"
   },
   "outputs": [],
   "source": [
    "labels_pca = kmeans_pca.labels_\n",
    "dfc=pd.DataFrame(componentesprincipales)\n",
    "\n"
   ]
  },
  {
   "cell_type": "code",
   "execution_count": null,
   "metadata": {
    "id": "fFQqFLA8MQ7M"
   },
   "outputs": [],
   "source": []
  },
  {
   "cell_type": "code",
   "execution_count": 36,
   "metadata": {
    "colab": {
     "base_uri": "https://localhost:8080/",
     "height": 369
    },
    "id": "fYaXNJJoMrc4",
    "outputId": "e516c001-6680-444b-f777-ff159682786d"
   },
   "outputs": [
    {
     "name": "stderr",
     "output_type": "stream",
     "text": [
      "C:\\ProgramData\\Anaconda3\\lib\\site-packages\\seaborn\\_decorators.py:36: FutureWarning: Pass the following variables as keyword args: x, y. From version 0.12, the only valid positional argument will be `data`, and passing other arguments without an explicit keyword will result in an error or misinterpretation.\n",
      "  warnings.warn(\n"
     ]
    },
    {
     "data": {
      "image/png": "[encoded data removed]",
      "text/plain": [
       "<Figure size 432x288 with 1 Axes>"
      ]
     },
     "metadata": {},
     "output_type": "display_data"
    }
   ],
   "source": [
    "sns.scatterplot(dfc.iloc[:,0], dfc.iloc[:,1],\n",
    "               hue = kmeans_pca.labels_, palette='Set3', s=50,\n",
    "               alpha=0.1).set_title('Kmeans Clusters de 4 derivado delPCA',\n",
    "                                   fontsize=7)\n",
    "\n",
    "plt.legend()\n",
    "plt.show()"
   ]
  },
  {
   "cell_type": "code",
   "execution_count": null,
   "metadata": {
    "id": "RqBOpGdRJq3Y"
   },
   "outputs": [],
   "source": []
  },
  {
   "cell_type": "markdown",
   "metadata": {
    "id": "6MuB9ikqW7aU"
   },
   "source": [
    "# Exercici 2\n",
    "\n",
    "Classifica els diferents vols utilitzant l'algorisme de clustering jeràrquic."
   ]
  },
  {
   "cell_type": "code",
   "execution_count": 37,
   "metadata": {
    "id": "790aeOJsqZ5E"
   },
   "outputs": [],
   "source": [
    "jerarc = dfc.iloc[:,:2]"
   ]
  },
  {
   "cell_type": "code",
   "execution_count": 41,
   "metadata": {
    "id": "rEaOdWeUno9c"
   },
   "outputs": [],
   "source": [
    "\n",
    "cluster1, cluster2 = train_test_split(jerarc, test_size = 0.01, random_state=42)"
   ]
  },
  {
   "cell_type": "code",
   "execution_count": 42,
   "metadata": {
    "colab": {
     "base_uri": "https://localhost:8080/"
    },
    "id": "JupD90DuQGfV",
    "outputId": "7e20ec3a-8223-4506-bc9c-0f579f1c7d86"
   },
   "outputs": [
    {
     "data": {
      "text/plain": [
       "(1235011, 2)"
      ]
     },
     "execution_count": 42,
     "metadata": {},
     "output_type": "execute_result"
    }
   ],
   "source": [
    "cluster1.shape"
   ]
  },
  {
   "cell_type": "code",
   "execution_count": 45,
   "metadata": {
    "colab": {
     "base_uri": "https://localhost:8080/",
     "height": 195
    },
    "id": "pZT9pyWeU63O",
    "outputId": "96cdad16-9e6e-43d4-d540-369f1ff16c1e"
   },
   "outputs": [
    {
     "data": {
      "image/png": "[encoded data removed]",
      "text/plain": [
       "<Figure size 432x288 with 1 Axes>"
      ]
     },
     "metadata": {},
     "output_type": "display_data"
    }
   ],
   "source": [
    "slk = linkage(cluster2, method=\"ward\")\n",
    "dendrogram(slk)\n",
    "plt.show()"
   ]
  },
  {
   "cell_type": "code",
   "execution_count": 46,
   "metadata": {
    "id": "Vd3DgHP4VqtO"
   },
   "outputs": [],
   "source": [
    "#En el dendogramma se ve 3 clusters "
   ]
  },
  {
   "cell_type": "markdown",
   "metadata": {},
   "source": [
    "# Exercici 3\n",
    "\n",
    "Calcula el rendiment del clustering mitjançant un paràmetre com pot ser silhouette."
   ]
  },
  {
   "cell_type": "code",
   "execution_count": 73,
   "metadata": {},
   "outputs": [
    {
     "name": "stdout",
     "output_type": "stream",
     "text": [
      "(1210061, 2) (37425, 2)\n"
     ]
    }
   ],
   "source": [
    "muestra1, muestra2 = train_test_split(jerarc, test_size = 0.03, random_state=42)\n",
    "print(muestra1.shape, muestra2.shape)"
   ]
  },
  {
   "cell_type": "code",
   "execution_count": 74,
   "metadata": {},
   "outputs": [
    {
     "name": "stdout",
     "output_type": "stream",
     "text": [
      "Clusters : 2 La media de silhouette_score es : 0.4248003312275607\n",
      "Clusters : 3 La media de silhouette_score es : 0.3972709268176994\n",
      "Clusters : 4 La media de silhouette_score es : 0.37546101491925543\n",
      "Clusters : 5 La media de silhouette_score es : 0.36286563350482226\n",
      "Clusters : 6 La media de silhouette_score es : 0.34413698830192785\n",
      "Clusters : 7 La media de silhouette_score es : 0.3433303631156244\n",
      "Clusters : 8 La media de silhouette_score es : 0.34171132258394316\n",
      "Clusters : 9 La media de silhouette_score es : 0.34451207398197525\n",
      "Clusters : 10 La media de silhouette_score es : 0.34314988398078106\n",
      "Clusters : 11 La media de silhouette_score es : 0.3256157027537662\n",
      "Clusters : 12 La media de silhouette_score es : 0.3264791741803732\n",
      "Clusters : 13 La media de silhouette_score es : 0.3277026150270163\n",
      "Clusters : 14 La media de silhouette_score es : 0.3286115299836098\n"
     ]
    }
   ],
   "source": [
    "silhouette_coefficients = []\n",
    "kmeans_kwargs = { \"init\": \"random\", \"n_init\": 10, \"max_iter\": 300,\"random_state\": 42}\n",
    "#kmeans_kwargs = { \"init\": \"random\", \"n_init\": 10, \"max_iter\": 20,\"random_state\": 42}\n",
    "for k in range(2, 15):\n",
    "    kmeans = KMeans(n_clusters=k, **kmeans_kwargs)\n",
    "    kmeans.fit(muestra2)\n",
    "    score = silhouette_score(muestra2, kmeans.labels_)    \n",
    "    silhouette_coefficients.append(score)\n",
    "    print(\"Clusters :\", k,\"La media de silhouette_score es :\", score)\n",
    "\n"
   ]
  },
  {
   "cell_type": "code",
   "execution_count": 75,
   "metadata": {},
   "outputs": [
    {
     "data": {
      "image/png": "[encoded data removed]",
      "text/plain": [
       "<Figure size 432x288 with 1 Axes>"
      ]
     },
     "metadata": {},
     "output_type": "display_data"
    }
   ],
   "source": [
    "plt.plot(range(2, 15), silhouette_coefficients)\n",
    "plt.xticks(range(2, 15))\n",
    "plt.xlabel(\"Numero de clusters\")\n",
    "plt.ylabel(\" Coeficiente de Silhouette\")\n",
    "plt.show()"
   ]
  },
  {
   "cell_type": "code",
   "execution_count": null,
   "metadata": {},
   "outputs": [],
   "source": []
  }
 ],
 "metadata": {
  "colab": {
   "collapsed_sections": [],
   "name": "NoSupervisat_Classificacio.ipynb",
   "provenance": []
  },
  "kernelspec": {
   "display_name": "Python 3",
   "language": "python",
   "name": "python3"
  },
  "language_info": {
   "codemirror_mode": {
    "name": "ipython",
    "version": 3
   },
   "file_extension": ".py",
   "mimetype": "text/x-python",
   "name": "python",
   "nbconvert_exporter": "python",
   "pygments_lexer": "ipython3",
   "version": "3.8.5"
  }
 },
 "nbformat": 4,
 "nbformat_minor": 1
}
